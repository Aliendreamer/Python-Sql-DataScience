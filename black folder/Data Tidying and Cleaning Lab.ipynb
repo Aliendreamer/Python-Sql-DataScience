{
 "cells": [
  {
   "cell_type": "code",
   "execution_count": 1,
   "metadata": {
    "collapsed": true
   },
   "outputs": [],
   "source": [
    "import pandas as pd\n",
    "import nose.tools\n",
    "import numpy as np\n",
    "# Write your imports here"
   ]
  },
  {
   "cell_type": "markdown",
   "metadata": {},
   "source": [
    "# Data Tidying and Cleaning Lab\n",
    "## Reading, tidying and cleaning data. Preparing data for exploration, mining, analysis and learning"
   ]
  },
  {
   "cell_type": "markdown",
   "metadata": {
    "collapsed": true,
    "deletable": false,
    "editable": false,
    "nbgrader": {
     "checksum": "fd01c6b9567bc63f1b3c2633a475d1d8",
     "grade": false,
     "grade_id": "p1-statement",
     "locked": true,
     "schema_version": 1,
     "solution": false
    }
   },
   "source": [
    "### Problem 1. Read the dataset\n",
    "The dataset [here](http://archive.ics.uci.edu/ml/datasets/Auto+MPG) contains information about fuel consumption in different cars.\n",
    "\n",
    "Click the \"Data Folder\" link and read `auto_mpg.data` into Python. You can download it, if you wish, or you can read it directly from the link.\n",
    "\n",
    "Give meaningful (and \"Pythonic\") column names, as per the `auto_mpg.names` file:\n",
    "1. mpg\n",
    "2. cylinders\n",
    "3. displacement\n",
    "4. horsepower\n",
    "5. weight\n",
    "6. acceleration\n",
    "7. model_year\n",
    "8. origin\n",
    "9. car_name"
   ]
  },
  {
   "cell_type": "code",
   "execution_count": 5,
   "metadata": {
    "collapsed": true,
    "deletable": false,
    "nbgrader": {
     "checksum": "01dd7404c375d7c55e078528f4f2e82a",
     "grade": false,
     "grade_id": "read_data",
     "locked": false,
     "schema_version": 1,
     "solution": true
    }
   },
   "outputs": [],
   "source": [
    "mpg_data = pd.read_fwf(\"http://archive.ics.uci.edu/ml/machine-learning-databases/auto-mpg/auto-mpg.data\",header = None, \n",
    "names=[\"mpg\",\"cylinders\",\"displacement\",\"horsepower\",\"weight\",\"acceleration\",\"model_year\",\"origin\",\"car_name\"],na_values = [\"?\"])\n",
    "\n",
    "# YOUR CODE HERE\n",
    "#raise NotImplementedError()"
   ]
  },
  {
   "cell_type": "code",
   "execution_count": 6,
   "metadata": {
    "collapsed": true,
    "deletable": false,
    "editable": false,
    "nbgrader": {
     "checksum": "2ce6158989415e079a009ae021e4fa62",
     "grade": true,
     "grade_id": "read_data_tests",
     "locked": true,
     "points": 2,
     "schema_version": 1,
     "solution": false
    }
   },
   "outputs": [],
   "source": [
    "nose.tools.assert_is_not_none(mpg_data)"
   ]
  },
  {
   "cell_type": "markdown",
   "metadata": {
    "deletable": false,
    "editable": false,
    "nbgrader": {
     "checksum": "f989dbfcc7358cb096bacf5fc6645d49",
     "grade": false,
     "grade_id": "head",
     "locked": true,
     "schema_version": 1,
     "solution": false
    }
   },
   "source": [
    "Print the first 4 rows in the dataset to get a feel of what it looks like:"
   ]
  },
  {
   "cell_type": "code",
   "execution_count": 7,
   "metadata": {
    "deletable": false,
    "nbgrader": {
     "checksum": "95870dca1942307927d17b24f8058909",
     "grade": false,
     "grade_id": "cell-80f1e6004aaafef8",
     "locked": false,
     "schema_version": 1,
     "solution": true
    }
   },
   "outputs": [
    {
     "name": "stdout",
     "output_type": "stream",
     "text": [
      "    mpg  cylinders  displacement  horsepower  weight  acceleration  \\\n",
      "0  18.0          8         307.0       130.0  3504.0          12.0   \n",
      "1  15.0          8         350.0       165.0  3693.0          11.5   \n",
      "2  18.0          8         318.0       150.0  3436.0          11.0   \n",
      "3  16.0          8         304.0       150.0  3433.0          12.0   \n",
      "\n",
      "   model_year  origin                     car_name  \n",
      "0          70       1  \"chevrolet chevelle malibu\"  \n",
      "1          70       1          \"buick skylark 320\"  \n",
      "2          70       1         \"plymouth satellite\"  \n",
      "3          70       1              \"amc rebel sst\"  \n"
     ]
    }
   ],
   "source": [
    "# YOUR CODE HERE\n",
    "#raise NotImplementedError()\n",
    "print(mpg_data.head(4))\n"
   ]
  },
  {
   "cell_type": "markdown",
   "metadata": {
    "deletable": false,
    "editable": false,
    "nbgrader": {
     "checksum": "63e8dd4c28115c8ba2ee981b349b6e3a",
     "grade": false,
     "grade_id": "shape",
     "locked": true,
     "schema_version": 1,
     "solution": false
    }
   },
   "source": [
    "Write a function which accepts a dataset and returns the number of observations and features in it, like so: \n",
    "\n",
    "``` 10 observations on 15 features```\n",
    "\n",
    "Where 10 and 15 should be replaced with the real numbers. Test your function with the `auto_mpg` dataset.\n",
    "\n",
    "Make sure the function works with other datasets (don't worry about \"1 features\" or \"1 observations\", just leave it as it is)."
   ]
  },
  {
   "cell_type": "code",
   "execution_count": 8,
   "metadata": {
    "collapsed": true,
    "deletable": false,
    "nbgrader": {
     "checksum": "b1d7dcc8748a015d88620eaaa5c9f954",
     "grade": false,
     "grade_id": "get_shape_function",
     "locked": false,
     "schema_version": 1,
     "solution": true
    }
   },
   "outputs": [],
   "source": [
    "def observations_and_features(dataset):\n",
    "    \"\"\"\n",
    "    Returns the number of observations and features in the provided dataset\n",
    "    \"\"\"\n",
    "    observations = dataset.shape[0]\n",
    "    features = dataset.shape[1]\n",
    "    # YOUR CODE HERE\n",
    "    #raise NotImplementedError()\n",
    "    return \"{} observations on {} features\".format(observations, features)"
   ]
  },
  {
   "cell_type": "code",
   "execution_count": 9,
   "metadata": {
    "deletable": false,
    "editable": false,
    "nbgrader": {
     "checksum": "f7dbfd9dc8c499bfd5a29ea97c4ff14f",
     "grade": true,
     "grade_id": "get_shape_function_tests",
     "locked": true,
     "points": 1,
     "schema_version": 1,
     "solution": false
    }
   },
   "outputs": [
    {
     "name": "stdout",
     "output_type": "stream",
     "text": [
      "398 observations on 9 features\n"
     ]
    }
   ],
   "source": [
    "print(observations_and_features(mpg_data))"
   ]
  },
  {
   "cell_type": "markdown",
   "metadata": {
    "deletable": false,
    "editable": false,
    "nbgrader": {
     "checksum": "90fb7cad4e0e32af68566acd89a499ce",
     "grade": false,
     "grade_id": "cell-61332a7ac96a52f9",
     "locked": true,
     "schema_version": 1,
     "solution": false
    }
   },
   "source": [
    "Inspect the data types for each column."
   ]
  },
  {
   "cell_type": "code",
   "execution_count": 10,
   "metadata": {
    "deletable": false,
    "nbgrader": {
     "checksum": "2104930892a2916289f265b192e17f8f",
     "grade": false,
     "grade_id": "cell-152f652655c53f2a",
     "locked": false,
     "schema_version": 1,
     "solution": true
    }
   },
   "outputs": [
    {
     "data": {
      "text/plain": [
       "mpg             float64\n",
       "cylinders         int64\n",
       "displacement    float64\n",
       "horsepower      float64\n",
       "weight          float64\n",
       "acceleration    float64\n",
       "model_year        int64\n",
       "origin            int64\n",
       "car_name         object\n",
       "dtype: object"
      ]
     },
     "execution_count": 10,
     "metadata": {},
     "output_type": "execute_result"
    }
   ],
   "source": [
    "# YOUR CODE HERE\n",
    "mpg_data.dtypes \n",
    "#raise NotImplementedError()"
   ]
  },
  {
   "cell_type": "markdown",
   "metadata": {
    "deletable": false,
    "editable": false,
    "nbgrader": {
     "checksum": "cd0093d8ac7f7f7c5a1f0dd45340827e",
     "grade": false,
     "grade_id": "cell-ff13ae18ef3c4af2",
     "locked": true,
     "schema_version": 1,
     "solution": false
    }
   },
   "source": [
    "The `horsepower` column looks strange. It's a string but it must be a floating-point number. Find out why this is so and convert it to floating-point number."
   ]
  },
  {
   "cell_type": "code",
   "execution_count": 11,
   "metadata": {
    "collapsed": true,
    "deletable": false,
    "nbgrader": {
     "checksum": "752895e02c8832dd852dde6ec3f15782",
     "grade": false,
     "grade_id": "convert_to_numeric",
     "locked": false,
     "schema_version": 1,
     "solution": true
    }
   },
   "outputs": [],
   "source": [
    "# YOUR CODE HERE\n",
    "mpg_data['horsepower'] = mpg_data['horsepower'].apply(pd.to_numeric, errors='coerce' )\n",
    "#raise NotImplementedError()"
   ]
  },
  {
   "cell_type": "code",
   "execution_count": 12,
   "metadata": {
    "collapsed": true,
    "deletable": false,
    "editable": false,
    "nbgrader": {
     "checksum": "67c159bf5ec29e072929da20b161b75a",
     "grade": true,
     "grade_id": "convert_to_numeric_tests",
     "locked": true,
     "points": 1,
     "schema_version": 1,
     "solution": false
    }
   },
   "outputs": [],
   "source": [
    "nose.tools.assert_equal(mpg_data.horsepower.dtype, \"float64\")"
   ]
  },
  {
   "cell_type": "markdown",
   "metadata": {
    "deletable": false,
    "editable": false,
    "nbgrader": {
     "checksum": "3beb5031aa383c87a180a709eb04ac20",
     "grade": false,
     "grade_id": "cell-536da59fbedcc7d5",
     "locked": true,
     "schema_version": 1,
     "solution": false
    }
   },
   "source": [
    "We saw that the `horsepower` column contained null values. Display the rows which contain those values. Assign the resulting dataframe to the `unknown_hp` variable."
   ]
  },
  {
   "cell_type": "code",
   "execution_count": 13,
   "metadata": {
    "collapsed": true,
    "deletable": false,
    "nbgrader": {
     "checksum": "0753f2d418958209cba57f14e3ca1394",
     "grade": false,
     "grade_id": "unknown_hp",
     "locked": false,
     "schema_version": 1,
     "solution": true
    }
   },
   "outputs": [],
   "source": [
    "def get_unknown_hp(dataframe):\n",
    "    \"\"\"\n",
    "    Returns the rows in the provided dataframe where the \"horsepower\" column is NaN\n",
    "    \"\"\"\n",
    "    unknown_hp = mpg_data['horsepower'][pd.isnull(mpg_data['horsepower'])] \n",
    "    # YOUR CODE HERE\n",
    "    #raise NotImplementedError()\n",
    "    return unknown_hp"
   ]
  },
  {
   "cell_type": "code",
   "execution_count": 14,
   "metadata": {
    "deletable": false,
    "editable": false,
    "nbgrader": {
     "checksum": "de0f3eb13e9fd31c82611031b77e3993",
     "grade": true,
     "grade_id": "unknown_hp_tests",
     "locked": true,
     "points": 1,
     "schema_version": 1,
     "solution": false
    }
   },
   "outputs": [
    {
     "name": "stdout",
     "output_type": "stream",
     "text": [
      "32    NaN\n",
      "126   NaN\n",
      "330   NaN\n",
      "336   NaN\n",
      "354   NaN\n",
      "374   NaN\n",
      "Name: horsepower, dtype: float64\n"
     ]
    }
   ],
   "source": [
    "cars_with_unknown_hp = get_unknown_hp(mpg_data)\n",
    "print(cars_with_unknown_hp)"
   ]
  },
  {
   "cell_type": "markdown",
   "metadata": {
    "deletable": false,
    "editable": false,
    "nbgrader": {
     "checksum": "f0a437ecc2c54d6436d1133932820072",
     "grade": false,
     "grade_id": "cell-f06bf4dcead993d4",
     "locked": true,
     "schema_version": 1,
     "solution": false
    }
   },
   "source": [
    "It seems like the `NaN` values are a small fraction of all values. We can try one of several things:\n",
    "* Remove them\n",
    "* Replace them (e.g. with the mean power of all cars)\n",
    "* Look up the models on the internet and try our best guess on the power\n",
    "\n",
    "The third one is probably the best but the first one will suffice since these records are too few. Remove those values. Save the dataset in the same `mpg_data` variable. Ensure there are no more `NaN`s."
   ]
  },
  {
   "cell_type": "code",
   "execution_count": 15,
   "metadata": {
    "collapsed": true,
    "deletable": false,
    "nbgrader": {
     "checksum": "e6c2d5f7577105ee6e010482c29c6f94",
     "grade": false,
     "grade_id": "remove_nulls",
     "locked": false,
     "schema_version": 1,
     "solution": true
    }
   },
   "outputs": [],
   "source": [
    "# YOUR CODE HERE\n",
    "mpg_data =mpg_data[pd.notnull(mpg_data['horsepower'])]\n",
    "#raise NotImplementedError()"
   ]
  },
  {
   "cell_type": "code",
   "execution_count": 16,
   "metadata": {
    "collapsed": true,
    "deletable": false,
    "editable": false,
    "nbgrader": {
     "checksum": "6e7e2f4e6fefe2cc58221893b5d7b3aa",
     "grade": true,
     "grade_id": "remove_nulls_test",
     "locked": true,
     "points": 1,
     "schema_version": 1,
     "solution": false
    }
   },
   "outputs": [],
   "source": [
    "nose.tools.assert_equal(len(get_unknown_hp(mpg_data)), 0)"
   ]
  },
  {
   "cell_type": "markdown",
   "metadata": {
    "deletable": false,
    "editable": false,
    "nbgrader": {
     "checksum": "e422b0c156c07c76b8872833103bb100",
     "grade": false,
     "grade_id": "cell-dbb2f7447388f59f",
     "locked": true,
     "schema_version": 1,
     "solution": false
    }
   },
   "source": [
    "Display all unique model years. Assign them to the variable `model_years`."
   ]
  },
  {
   "cell_type": "code",
   "execution_count": 17,
   "metadata": {
    "collapsed": true,
    "deletable": false,
    "nbgrader": {
     "checksum": "8ba2235d4a8f83ea9434fc90a1ddc80a",
     "grade": false,
     "grade_id": "model_years",
     "locked": false,
     "schema_version": 1,
     "solution": true
    }
   },
   "outputs": [],
   "source": [
    "def get_unique_model_years(dataframe):\n",
    "    \"\"\"\n",
    "    Returns the unique values of the \"model_year\" column\n",
    "    of the dataframe\n",
    "    \"\"\"\n",
    "    model_years = dataframe.model_year.unique() \n",
    "    # YOUR CODE HERE\n",
    "    #raise NotImplementedError()\n",
    "    return model_years"
   ]
  },
  {
   "cell_type": "code",
   "execution_count": 18,
   "metadata": {
    "deletable": false,
    "editable": false,
    "nbgrader": {
     "checksum": "4c94cfe872ceb02a22837ccfe4703449",
     "grade": true,
     "grade_id": "model_years_test",
     "locked": true,
     "points": 1,
     "schema_version": 1,
     "solution": false
    }
   },
   "outputs": [
    {
     "name": "stdout",
     "output_type": "stream",
     "text": [
      "[70 71 72 73 74 75 76 77 78 79 80 81 82]\n"
     ]
    }
   ],
   "source": [
    "model_years = get_unique_model_years(mpg_data)\n",
    "print(model_years)"
   ]
  },
  {
   "cell_type": "markdown",
   "metadata": {
    "deletable": false,
    "editable": false,
    "nbgrader": {
     "checksum": "5bdad767be37dcea83e12f6e784352ac",
     "grade": false,
     "grade_id": "cell-8a653ca8b215d1d6",
     "locked": true,
     "schema_version": 1,
     "solution": false
    }
   },
   "source": [
    "These don't look so good. Convert them to real years, like `70 -> 1970, 71 -> 1971`. Replace the column values in the dataframe."
   ]
  },
  {
   "cell_type": "code",
   "execution_count": 19,
   "metadata": {
    "collapsed": true,
    "deletable": false,
    "nbgrader": {
     "checksum": "f147ac3f6d2a1eb4de54e68b6e9f4ad4",
     "grade": false,
     "grade_id": "model_year",
     "locked": false,
     "schema_version": 1,
     "solution": true
    }
   },
   "outputs": [],
   "source": [
    "# YOUR CODE HERE\n",
    "mpg_data['model_year'] = pd.to_datetime('19' + mpg_data['model_year'].astype(str)).dt.year\n",
    "#mpg_data['model_year']='19' + mpg_data['model_year'].astype(str)\n",
    "#mpg_data['model_year'] = pd.to_datetime(mpg_data['model_year'],format='%Y')\n",
    "#raise NotImplementedError()\n",
    "# left to make the datetime real not string stupid datetime god I hate it!   "
   ]
  },
  {
   "cell_type": "code",
   "execution_count": 20,
   "metadata": {
    "deletable": false,
    "editable": false,
    "nbgrader": {
     "checksum": "aa8901ac15f7ada7c47953896674e4ce",
     "grade": true,
     "grade_id": "model_year_test",
     "locked": true,
     "points": 1,
     "schema_version": 1,
     "solution": false
    }
   },
   "outputs": [
    {
     "name": "stdout",
     "output_type": "stream",
     "text": [
      "[1970 1971 1972 1973 1974 1975 1976 1977 1978 1979 1980 1981 1982]\n"
     ]
    }
   ],
   "source": [
    "model_years = get_unique_model_years(mpg_data)\n",
    "print(model_years)"
   ]
  },
  {
   "cell_type": "markdown",
   "metadata": {
    "deletable": false,
    "editable": false,
    "nbgrader": {
     "checksum": "13bcf0346dec51808f630b036d1d8e83",
     "grade": false,
     "grade_id": "cell-5ad6ac2dc68d7684",
     "locked": true,
     "schema_version": 1,
     "solution": false
    }
   },
   "source": [
    "The data looks quite good now. Let's try some exploration.\n",
    "\n",
    "Write a function to find the cars which have the smallest number of cylinders and print their model names. Return a list of car names."
   ]
  },
  {
   "cell_type": "code",
   "execution_count": 22,
   "metadata": {
    "collapsed": true,
    "deletable": false,
    "nbgrader": {
     "checksum": "49553dd5a9ef2cea7c1501bff02f8827",
     "grade": false,
     "grade_id": "car_names",
     "locked": false,
     "schema_version": 1,
     "solution": true
    }
   },
   "outputs": [],
   "source": [
    "def get_model_names_smallest_cylinders(dataframe):\n",
    "    \"\"\"\n",
    "    Returns the names of the cars with the smallest number of cylinders\n",
    "    \"\"\"\n",
    "    selection = dataframe.cylinders.min()\n",
    "    car_names = dataframe.loc[dataframe['cylinders'] == selection].car_name\n",
    "    # YOUR CODE HERE\n",
    "    # raise NotImplementedError()\n",
    "    return car_names"
   ]
  },
  {
   "cell_type": "code",
   "execution_count": 23,
   "metadata": {
    "deletable": false,
    "editable": false,
    "nbgrader": {
     "checksum": "c4e6e2784d56ead5108d82666eae6fc4",
     "grade": true,
     "grade_id": "car_names_test",
     "locked": true,
     "points": 1,
     "schema_version": 1,
     "solution": false
    }
   },
   "outputs": [
    {
     "name": "stdout",
     "output_type": "stream",
     "text": [
      "71     \"mazda rx2 coupe\"\n",
      "111          \"maxda rx3\"\n",
      "243         \"mazda rx-4\"\n",
      "334      \"mazda rx-7 gs\"\n",
      "Name: car_name, dtype: object\n"
     ]
    }
   ],
   "source": [
    "car_names = get_model_names_smallest_cylinders(mpg_data)\n",
    "print(car_names)\n",
    "nose.tools.assert_equal(car_names.shape, (4,))"
   ]
  },
  {
   "cell_type": "markdown",
   "metadata": {
    "deletable": false,
    "editable": false,
    "nbgrader": {
     "checksum": "7cee8c061070cb8d576a8e6f15c2db27",
     "grade": false,
     "grade_id": "correlation_intro",
     "locked": true,
     "schema_version": 1,
     "solution": false
    }
   },
   "source": [
    "Finally, let's see some connections between variables. These are also called **correlations**.\n",
    "\n",
    "Find how to calculate correlations between different columns using `pandas`.\n",
    "\n",
    "**Hint:** The correlation function in `pandas` returns a `DataFrame` by default. You need only one value from it.\n",
    "\n",
    "Create a function which accepts a dataframe and two columns and prints the correlation coefficient between those two columns."
   ]
  },
  {
   "cell_type": "code",
   "execution_count": 24,
   "metadata": {
    "collapsed": true,
    "deletable": false,
    "nbgrader": {
     "checksum": "83c635c1652bb22eae247fe4db073fd8",
     "grade": false,
     "grade_id": "correlation",
     "locked": false,
     "schema_version": 1,
     "solution": true
    }
   },
   "outputs": [],
   "source": [
    "def calculate_correlation(dataframe, first_column, second_column):\n",
    "    \"\"\"\n",
    "    Calculates and returns the correlation coefficient between the two columns in the dataframe.\n",
    "    \"\"\"\n",
    "    correlation = dataframe[first_column].corr(dataframe[second_column])\n",
    "    # YOUR CODE HERE\n",
    "    #raise NotImplementedError()\n",
    "    return correlation"
   ]
  },
  {
   "cell_type": "code",
   "execution_count": 25,
   "metadata": {
    "deletable": false,
    "editable": false,
    "nbgrader": {
     "checksum": "95da71238c62b1ceaf48f316ce32d747",
     "grade": true,
     "grade_id": "cell-457c5946f2350991",
     "locked": true,
     "points": 1,
     "schema_version": 1,
     "solution": false
    }
   },
   "outputs": [
    {
     "name": "stdout",
     "output_type": "stream",
     "text": [
      "Horsepower:Weight correlation coefficient: 0.864537737574\n"
     ]
    }
   ],
   "source": [
    "hp_weight = calculate_correlation(mpg_data, \"horsepower\", \"weight\")\n",
    "print(\"Horsepower:Weight correlation coefficient:\", hp_weight)\n",
    "nose.tools.assert_almost_equal(hp_weight, 0.864537737574, delta = 0.01)\n"
   ]
  },
  {
   "cell_type": "code",
   "execution_count": null,
   "metadata": {
    "collapsed": true
   },
   "outputs": [],
   "source": []
  }
 ],
 "metadata": {
  "kernelspec": {
   "display_name": "Python 3",
   "language": "python",
   "name": "python3"
  },
  "language_info": {
   "codemirror_mode": {
    "name": "ipython",
    "version": 3
   },
   "file_extension": ".py",
   "mimetype": "text/x-python",
   "name": "python",
   "nbconvert_exporter": "python",
   "pygments_lexer": "ipython3",
   "version": "3.6.3"
  }
 },
 "nbformat": 4,
 "nbformat_minor": 2
}
